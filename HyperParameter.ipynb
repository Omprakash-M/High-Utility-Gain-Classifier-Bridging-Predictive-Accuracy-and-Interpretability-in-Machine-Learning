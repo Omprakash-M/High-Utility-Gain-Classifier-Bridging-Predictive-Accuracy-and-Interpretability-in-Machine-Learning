{
 "cells": [
  {
   "cell_type": "code",
   "execution_count": 1,
   "metadata": {},
   "outputs": [
    {
     "data": {
      "text/html": [
       "<style type='text/css'>\n",
       ".datatable table.frame { margin-bottom: 0; }\n",
       ".datatable table.frame thead { border-bottom: none; }\n",
       ".datatable table.frame tr.coltypes td {  color: #FFFFFF;  line-height: 6px;  padding: 0 0.5em;}\n",
       ".datatable .bool    { background: #DDDD99; }\n",
       ".datatable .object  { background: #565656; }\n",
       ".datatable .int     { background: #5D9E5D; }\n",
       ".datatable .float   { background: #4040CC; }\n",
       ".datatable .str     { background: #CC4040; }\n",
       ".datatable .time    { background: #40CC40; }\n",
       ".datatable .row_index {  background: var(--jp-border-color3);  border-right: 1px solid var(--jp-border-color0);  color: var(--jp-ui-font-color3);  font-size: 9px;}\n",
       ".datatable .frame tbody td { text-align: left; }\n",
       ".datatable .frame tr.coltypes .row_index {  background: var(--jp-border-color0);}\n",
       ".datatable th:nth-child(2) { padding-left: 12px; }\n",
       ".datatable .hellipsis {  color: var(--jp-cell-editor-border-color);}\n",
       ".datatable .vellipsis {  background: var(--jp-layout-color0);  color: var(--jp-cell-editor-border-color);}\n",
       ".datatable .na {  color: var(--jp-cell-editor-border-color);  font-size: 80%;}\n",
       ".datatable .sp {  opacity: 0.25;}\n",
       ".datatable .footer { font-size: 9px; }\n",
       ".datatable .frame_dimensions {  background: var(--jp-border-color3);  border-top: 1px solid var(--jp-border-color0);  color: var(--jp-ui-font-color3);  display: inline-block;  opacity: 0.6;  padding: 1px 10px 1px 5px;}\n",
       "</style>\n"
      ],
      "text/plain": [
       "<IPython.core.display.HTML object>"
      ]
     },
     "metadata": {},
     "output_type": "display_data"
    }
   ],
   "source": [
    "from utils import DataUtils, MetricUtils, PlotUtils\n",
    "from HUGIMLClassifier import HUGIMLClassifier\n",
    "from HUGIMLClassifierBNB import HUGIMLClassifierBNB\n",
    "from HUGIMLClassifierL1 import HUGIMLClassifierL1\n",
    "from hmeasure import h_score  \n",
    "import pandas as pd, numpy as np, copy, optuna\n",
    "import optuna.visualization as vis\n",
    "from sklearn.model_selection import train_test_split, cross_val_score, cross_validate, StratifiedKFold, KFold, GridSearchCV\n",
    "from sklearn.linear_model import LogisticRegression\n",
    "from sklearn.ensemble import RandomForestClassifier, GradientBoostingClassifier\n",
    "from sklearn.calibration import CalibratedClassifierCV\n",
    "from tqdm.notebook import tqdm_notebook\n",
    "from xgboost import XGBClassifier\n",
    "from sklearn.metrics import accuracy_score, precision_score, recall_score, f1_score, roc_auc_score,log_loss\n",
    "%matplotlib inline"
   ]
  },
  {
   "cell_type": "markdown",
   "metadata": {},
   "source": [
    "#### parameter selection"
   ]
  },
  {
   "cell_type": "markdown",
   "metadata": {},
   "source": [
    "#### grid search CV"
   ]
  },
  {
   "cell_type": "code",
   "execution_count": 3,
   "metadata": {},
   "outputs": [
    {
     "name": "stdout",
     "output_type": "stream",
     "text": [
      "dataset: pimaIndianDiabetes (768, 8)  featureSize: (6, 2, 0) classSize: [(0, 500), (1, 268)]\n",
      "all cols: ['numPregnancies', 'glucose', 'bp', 'skinThickness', 'insulin', 'age', 'bmi', 'diabetesPedigre']\n",
      "i/f cols: ['numPregnancies', 'glucose', 'bp', 'skinThickness', 'insulin', 'age'] ['bmi', 'diabetesPedigreeFunction']\n",
      "cat cols: []\n",
      "params  : []\n",
      "Fitting 3 folds for each of 2 candidates, totalling 6 fits\n",
      "[CV 1/3] END ...............B=10, G=0.001, L=1;, score=-0.492 total time=   1.7s\n",
      "[CV 2/3] END ...............B=10, G=0.001, L=1;, score=-0.455 total time=   1.7s\n",
      "[CV 3/3] END ...............B=10, G=0.001, L=1;, score=-0.505 total time=   1.6s\n",
      "[CV 1/3] END ...............B=12, G=0.001, L=1;, score=-0.529 total time=   1.6s\n",
      "[CV 2/3] END ...............B=12, G=0.001, L=1;, score=-0.480 total time=   1.5s\n",
      "[CV 3/3] END ...............B=12, G=0.001, L=1;, score=-0.507 total time=   1.6s\n",
      "dataset: Heloc (9861, 23)  featureSize: (0, 23, 0) classSize: [(0, 5128), (1, 4733)]\n",
      "all cols: ['MSinceMostRecen', 'PercentTradesNe', 'NumTrades60Ever', 'PercentTradesWB', 'NumInqLast6M', 'NetFractionRevo', 'MSinceMostRecen', 'NumInstallTrade', 'ExternalRiskEst', 'NumSatisfactory']\n",
      "i/f cols: [] ['MSinceMostRecentTradeOpen', 'PercentTradesNeverDelq', 'NumTrades60Ever2DerogPubRec', 'PercentTradesWBalance', 'NumInqLast6M', 'NetFractionRevolvingBurden', 'MSinceMostRecentDelq', 'NumInstallTradesWBalance', 'ExternalRiskEstimate', 'NumSatisfactoryTrades']\n",
      "cat cols: []\n",
      "params  : []\n",
      "Fitting 3 folds for each of 2 candidates, totalling 6 fits\n",
      "[CV 1/3] END ...............B=10, G=0.001, L=1;, score=-0.547 total time=   2.6s\n",
      "[CV 2/3] END ...............B=10, G=0.001, L=1;, score=-0.569 total time=   2.5s\n",
      "[CV 3/3] END ...............B=10, G=0.001, L=1;, score=-0.543 total time=   2.4s\n",
      "[CV 1/3] END ...............B=12, G=0.001, L=1;, score=-0.551 total time=   2.5s\n",
      "[CV 2/3] END ...............B=12, G=0.001, L=1;, score=-0.565 total time=   2.5s\n",
      "[CV 3/3] END ...............B=12, G=0.001, L=1;, score=-0.546 total time=   2.4s\n",
      "dataset: BankMarketingUCI (41188, 15)  featureSize: (1, 8, 6) classSize: [(0, 36548), (1, 4640)]\n",
      "all cols: ['age', 'campaign', 'previous', 'pdays', 'emp.var.rate', 'cons.price.idx', 'cons.conf.idx', 'euribor3m', 'nr.employed', 'job']\n",
      "i/f cols: ['age'] ['campaign', 'previous', 'pdays', 'emp.var.rate', 'cons.price.idx', 'cons.conf.idx', 'euribor3m', 'nr.employed']\n",
      "cat cols: ['job', 'marital', 'education', 'default', 'housing', 'loan']\n",
      "params  : []\n",
      "Fitting 3 folds for each of 2 candidates, totalling 6 fits\n",
      "[CV 1/3] END ...............B=10, G=0.001, L=1;, score=-0.276 total time=   3.9s\n",
      "[CV 2/3] END ...............B=10, G=0.001, L=1;, score=-0.285 total time=   3.8s\n",
      "[CV 3/3] END ...............B=10, G=0.001, L=1;, score=-0.275 total time=   3.8s\n",
      "[CV 1/3] END ...............B=12, G=0.001, L=1;, score=-0.275 total time=   3.9s\n",
      "[CV 2/3] END ...............B=12, G=0.001, L=1;, score=-0.284 total time=   3.9s\n",
      "[CV 3/3] END ...............B=12, G=0.001, L=1;, score=-0.275 total time=   3.8s\n"
     ]
    }
   ],
   "source": [
    "paramsByDs = {\n",
    "    'pimaIndianDiabetes': {'dsName': 'pimaIndianDiabetes', 'B': 7, 'L': 1, 'G': 5e-3}, \n",
    "    'Heloc': {'dsName': 'Heloc', 'B': 8, 'L': 1, 'G': 1e-3}, \n",
    "    'BankMarketingUCI': {'dsName': 'BankMarketingUCI', 'B': 11, 'L': 2, 'G': 3e-3}\n",
    "}\n",
    "\n",
    "# Select first three datasets\n",
    "selected_datasets = ['pimaIndianDiabetes', 'Heloc', 'BankMarketingUCI']\n",
    "\n",
    "results = []\n",
    "\n",
    "for dsName in selected_datasets:\n",
    "    params = {'dsName': dsName} #parameters B, L, T computed from training data\n",
    "    \n",
    "    X, y, yNewToOriginal, procdata  = DataUtils().get_dataset_df(params)\n",
    "    params = {**params, **procdata}\n",
    "    \n",
    "    from sklearn.model_selection import GridSearchCV\n",
    "    gsParams = [{'B': [10,12], 'L':[1], 'G': [1e-3]}]\n",
    "    h = HUGIMLClassifier(**params)\n",
    "    \n",
    "    skf = StratifiedKFold(n_splits=3, shuffle=True, random_state=0)\n",
    "    clf = GridSearchCV(h, param_grid=gsParams, cv=skf, scoring=MetricUtils().logLoss, verbose=3)\n",
    "    clf.fit(X, y)\n",
    "    \n",
    "    results = dict(zip(['bestScore', 'bestIndex', 'bestParams'], [clf.best_score_, clf.best_index_, clf.best_params_]))\n",
    "    results"
   ]
  },
  {
   "cell_type": "markdown",
   "metadata": {},
   "source": [
    "#### optuna search"
   ]
  },
  {
   "cell_type": "code",
   "execution_count": 6,
   "metadata": {},
   "outputs": [],
   "source": [
    "def pickParamValues(params, trial):\n",
    "    paramsOptuna = {\n",
    "                  'dsName': params['dsName'], \n",
    "                  'B': trial.suggest_categorical('B', params['B']), \n",
    "                  'L': trial.suggest_categorical('L', params['L']),\n",
    "                  'G': trial.suggest_categorical('G', params['G'])\n",
    "                 }\n",
    "    return paramsOptuna\n",
    "\n",
    "def runOptuna(params):\n",
    "    summary = []\n",
    "    keyExplored = []\n",
    "    \n",
    "    def objective(trial):\n",
    "        paramsOptuna = pickParamValues(params, trial)\n",
    "        optunaParamKey = ' '.join([str(k) for k in list(paramsOptuna.values())])\n",
    "        cntr = 1\n",
    "        while optunaParamKey in keyExplored:\n",
    "            if cntr>=10: break #attempt 10times for a different key \n",
    "            print('key already explored, getting next possible key ', cntr)\n",
    "            paramsOptuna = pickParamValues(params, trial)\n",
    "            optunaParamKey = ' '.join([str(k) for k in list(paramsOptuna.values())])\n",
    "            cntr += 1\n",
    "        keyExplored.append(optunaParamKey)\n",
    "        \n",
    "        X, y, yNewToOriginal, procdata  = DataUtils().get_dataset_df(paramsOptuna)\n",
    "\n",
    "        paramsOptuna = {**paramsOptuna, **procdata}\n",
    "        #HUGIML classifier initialization\n",
    "        clf = HUGIMLClassifier(**paramsOptuna)\n",
    "        \n",
    "        #train, test validation\n",
    "        x_train, x_test, y_train, y_test = train_test_split(X, y, test_size=0.2, random_state=0, stratify=y)\n",
    "        x_train, x_valid, y_train, y_valid = train_test_split(x_train, y_train, test_size=0.2, random_state=0, stratify=y_train)#80/20 split for validation and parameter selection\n",
    "        \n",
    "        #transform x by generating HUIs and fit a model\n",
    "        clf.fit(x_train, y_train)\n",
    "        \n",
    "        #predict probability on test instances\n",
    "        y_pred_proba = clf.predict_proba(x_valid)\n",
    "        y_pred = np.argmax(y_pred_proba, axis=1)\n",
    "        \n",
    "        #compute metrics\n",
    "        finalRes = MetricUtils().get_metrics(y_valid, y_pred, y_pred_proba) #['accuracy', 'f1', 'auc', 'hmeasure', 'logLoss', 'precision', 'recall']\n",
    "        logLoss = finalRes[4]\n",
    "        summary.append(finalRes[0:5])#acc, f1, auc, hmeasure, logloss\n",
    "        return logLoss\n",
    "\n",
    "    study = optuna.create_study(direction=\"minimize\", study_name='cv_search')\n",
    "    print()\n",
    "    study.optimize(objective, n_trials=params.get('numTrials', 5))\n",
    "    print(study.best_trial)\n",
    "    print(\"best value \", study.best_value, \"best params \", study.best_params)\n",
    "\n",
    "    #post process to get the output in a pandas dataframe\n",
    "    newd = {}\n",
    "    for tr in study.trials:\n",
    "        for k, v in tr._params.items():\n",
    "            if newd.get(k, -1)==-1: newd[k] = []\n",
    "            newd[k].append(v)\n",
    "    pd.DataFrame(newd)\n",
    "\n",
    "    newd['logloss'] = [tr._values[0] for tr in study.trials]\n",
    "    newd['acc'] = [s[0] for s in summary]\n",
    "    newd['f1'] = [s[1] for s in summary]\n",
    "    newd['auc'] = [s[2] for s in summary]\n",
    "    newd['hmeasure'] = [s[3] for s in summary]\n",
    "    newd['logLoss'] = [s[4] for s in summary]\n",
    "    \n",
    "    out = pd.DataFrame(newd)\n",
    "    out = out.sort_values(by=['logloss'], ascending=True)\n",
    "    display(out.style.highlight_max(color = 'yellow', axis = 0, subset = pd.IndexSlice[:, ['acc', 'f1', 'auc', 'hmeasure']]))"
   ]
  },
  {
   "cell_type": "code",
   "execution_count": 7,
   "metadata": {},
   "outputs": [
    {
     "name": "stderr",
     "output_type": "stream",
     "text": [
      "[I 2025-04-21 09:08:18,002] A new study created in memory with name: cv_search\n"
     ]
    },
    {
     "name": "stdout",
     "output_type": "stream",
     "text": [
      "\n",
      "dataset: BankMarketingUCI (41188, 15)  featureSize: (1, 8, 6) classSize: [(0, 36548), (1, 4640)]\n",
      "all cols: ['age', 'campaign', 'previous', 'pdays', 'emp.var.rate', 'cons.price.idx', 'cons.conf.idx', 'euribor3m', 'nr.employed', 'job']\n",
      "i/f cols: ['age'] ['campaign', 'previous', 'pdays', 'emp.var.rate', 'cons.price.idx', 'cons.conf.idx', 'euribor3m', 'nr.employed']\n",
      "cat cols: ['job', 'marital', 'education', 'default', 'housing', 'loan']\n",
      "params  : [('B', 3), ('L', 1), ('G', 0.01)]\n"
     ]
    },
    {
     "name": "stderr",
     "output_type": "stream",
     "text": [
      "[I 2025-04-21 09:08:21,970] Trial 0 finished with value: 0.2894 and parameters: {'B': 3, 'L': 1, 'G': 0.01}. Best is trial 0 with value: 0.2894.\n"
     ]
    },
    {
     "name": "stdout",
     "output_type": "stream",
     "text": [
      "dataset: BankMarketingUCI (41188, 15)  featureSize: (1, 8, 6) classSize: [(0, 36548), (1, 4640)]\n",
      "all cols: ['age', 'campaign', 'previous', 'pdays', 'emp.var.rate', 'cons.price.idx', 'cons.conf.idx', 'euribor3m', 'nr.employed', 'job']\n",
      "i/f cols: ['age'] ['campaign', 'previous', 'pdays', 'emp.var.rate', 'cons.price.idx', 'cons.conf.idx', 'euribor3m', 'nr.employed']\n",
      "cat cols: ['job', 'marital', 'education', 'default', 'housing', 'loan']\n",
      "params  : [('B', 7), ('L', 1), ('G', 0.001)]\n"
     ]
    },
    {
     "name": "stderr",
     "output_type": "stream",
     "text": [
      "[I 2025-04-21 09:08:26,354] Trial 1 finished with value: 0.2747 and parameters: {'B': 7, 'L': 1, 'G': 0.001}. Best is trial 1 with value: 0.2747.\n"
     ]
    },
    {
     "name": "stdout",
     "output_type": "stream",
     "text": [
      "key already explored, getting next possible key  1\n",
      "key already explored, getting next possible key  2\n",
      "key already explored, getting next possible key  3\n",
      "key already explored, getting next possible key  4\n",
      "key already explored, getting next possible key  5\n",
      "key already explored, getting next possible key  6\n",
      "key already explored, getting next possible key  7\n",
      "key already explored, getting next possible key  8\n",
      "key already explored, getting next possible key  9\n",
      "dataset: BankMarketingUCI (41188, 15)  featureSize: (1, 8, 6) classSize: [(0, 36548), (1, 4640)]\n",
      "all cols: ['age', 'campaign', 'previous', 'pdays', 'emp.var.rate', 'cons.price.idx', 'cons.conf.idx', 'euribor3m', 'nr.employed', 'job']\n",
      "i/f cols: ['age'] ['campaign', 'previous', 'pdays', 'emp.var.rate', 'cons.price.idx', 'cons.conf.idx', 'euribor3m', 'nr.employed']\n",
      "cat cols: ['job', 'marital', 'education', 'default', 'housing', 'loan']\n",
      "params  : [('B', 3), ('L', 1), ('G', 0.01)]\n"
     ]
    },
    {
     "name": "stderr",
     "output_type": "stream",
     "text": [
      "[I 2025-04-21 09:08:30,118] Trial 2 finished with value: 0.2894 and parameters: {'B': 3, 'L': 1, 'G': 0.01}. Best is trial 1 with value: 0.2747.\n"
     ]
    },
    {
     "name": "stdout",
     "output_type": "stream",
     "text": [
      "dataset: BankMarketingUCI (41188, 15)  featureSize: (1, 8, 6) classSize: [(0, 36548), (1, 4640)]\n",
      "all cols: ['age', 'campaign', 'previous', 'pdays', 'emp.var.rate', 'cons.price.idx', 'cons.conf.idx', 'euribor3m', 'nr.employed', 'job']\n",
      "i/f cols: ['age'] ['campaign', 'previous', 'pdays', 'emp.var.rate', 'cons.price.idx', 'cons.conf.idx', 'euribor3m', 'nr.employed']\n",
      "cat cols: ['job', 'marital', 'education', 'default', 'housing', 'loan']\n",
      "params  : [('B', 3), ('L', 1), ('G', 0.001)]\n"
     ]
    },
    {
     "name": "stderr",
     "output_type": "stream",
     "text": [
      "[I 2025-04-21 09:08:34,429] Trial 3 finished with value: 0.2806 and parameters: {'B': 3, 'L': 1, 'G': 0.001}. Best is trial 1 with value: 0.2747.\n"
     ]
    },
    {
     "name": "stdout",
     "output_type": "stream",
     "text": [
      "key already explored, getting next possible key  1\n",
      "key already explored, getting next possible key  2\n",
      "key already explored, getting next possible key  3\n",
      "key already explored, getting next possible key  4\n",
      "key already explored, getting next possible key  5\n",
      "key already explored, getting next possible key  6\n",
      "key already explored, getting next possible key  7\n",
      "key already explored, getting next possible key  8\n",
      "key already explored, getting next possible key  9\n",
      "dataset: BankMarketingUCI (41188, 15)  featureSize: (1, 8, 6) classSize: [(0, 36548), (1, 4640)]\n",
      "all cols: ['age', 'campaign', 'previous', 'pdays', 'emp.var.rate', 'cons.price.idx', 'cons.conf.idx', 'euribor3m', 'nr.employed', 'job']\n",
      "i/f cols: ['age'] ['campaign', 'previous', 'pdays', 'emp.var.rate', 'cons.price.idx', 'cons.conf.idx', 'euribor3m', 'nr.employed']\n",
      "cat cols: ['job', 'marital', 'education', 'default', 'housing', 'loan']\n",
      "params  : [('B', 3), ('L', 1), ('G', 0.001)]\n"
     ]
    },
    {
     "name": "stderr",
     "output_type": "stream",
     "text": [
      "[I 2025-04-21 09:08:38,768] Trial 4 finished with value: 0.2806 and parameters: {'B': 3, 'L': 1, 'G': 0.001}. Best is trial 1 with value: 0.2747.\n"
     ]
    },
    {
     "name": "stdout",
     "output_type": "stream",
     "text": [
      "FrozenTrial(number=1, state=TrialState.COMPLETE, values=[0.2747], datetime_start=datetime.datetime(2025, 4, 21, 9, 8, 21, 972188), datetime_complete=datetime.datetime(2025, 4, 21, 9, 8, 26, 354201), params={'B': 7, 'L': 1, 'G': 0.001}, user_attrs={}, system_attrs={}, intermediate_values={}, distributions={'B': CategoricalDistribution(choices=(3, 7, 12)), 'L': CategoricalDistribution(choices=(1,)), 'G': CategoricalDistribution(choices=(0.01, 0.001))}, trial_id=1, value=None)\n",
      "best value  0.2747 best params  {'B': 7, 'L': 1, 'G': 0.001}\n"
     ]
    },
    {
     "data": {
      "text/html": [
       "<style type=\"text/css\">\n",
       "#T_de762_row0_col4, #T_de762_row0_col5, #T_de762_row0_col6, #T_de762_row0_col7 {\n",
       "  background-color: yellow;\n",
       "}\n",
       "</style>\n",
       "<table id=\"T_de762\">\n",
       "  <thead>\n",
       "    <tr>\n",
       "      <th class=\"blank level0\" >&nbsp;</th>\n",
       "      <th id=\"T_de762_level0_col0\" class=\"col_heading level0 col0\" >B</th>\n",
       "      <th id=\"T_de762_level0_col1\" class=\"col_heading level0 col1\" >L</th>\n",
       "      <th id=\"T_de762_level0_col2\" class=\"col_heading level0 col2\" >G</th>\n",
       "      <th id=\"T_de762_level0_col3\" class=\"col_heading level0 col3\" >logloss</th>\n",
       "      <th id=\"T_de762_level0_col4\" class=\"col_heading level0 col4\" >acc</th>\n",
       "      <th id=\"T_de762_level0_col5\" class=\"col_heading level0 col5\" >f1</th>\n",
       "      <th id=\"T_de762_level0_col6\" class=\"col_heading level0 col6\" >auc</th>\n",
       "      <th id=\"T_de762_level0_col7\" class=\"col_heading level0 col7\" >hmeasure</th>\n",
       "      <th id=\"T_de762_level0_col8\" class=\"col_heading level0 col8\" >logLoss</th>\n",
       "    </tr>\n",
       "  </thead>\n",
       "  <tbody>\n",
       "    <tr>\n",
       "      <th id=\"T_de762_level0_row0\" class=\"row_heading level0 row0\" >1</th>\n",
       "      <td id=\"T_de762_row0_col0\" class=\"data row0 col0\" >7</td>\n",
       "      <td id=\"T_de762_row0_col1\" class=\"data row0 col1\" >1</td>\n",
       "      <td id=\"T_de762_row0_col2\" class=\"data row0 col2\" >0.001000</td>\n",
       "      <td id=\"T_de762_row0_col3\" class=\"data row0 col3\" >0.274700</td>\n",
       "      <td id=\"T_de762_row0_col4\" class=\"data row0 col4\" >0.901200</td>\n",
       "      <td id=\"T_de762_row0_col5\" class=\"data row0 col5\" >0.343100</td>\n",
       "      <td id=\"T_de762_row0_col6\" class=\"data row0 col6\" >0.791600</td>\n",
       "      <td id=\"T_de762_row0_col7\" class=\"data row0 col7\" >0.367800</td>\n",
       "      <td id=\"T_de762_row0_col8\" class=\"data row0 col8\" >0.274700</td>\n",
       "    </tr>\n",
       "    <tr>\n",
       "      <th id=\"T_de762_level0_row1\" class=\"row_heading level0 row1\" >3</th>\n",
       "      <td id=\"T_de762_row1_col0\" class=\"data row1 col0\" >3</td>\n",
       "      <td id=\"T_de762_row1_col1\" class=\"data row1 col1\" >1</td>\n",
       "      <td id=\"T_de762_row1_col2\" class=\"data row1 col2\" >0.001000</td>\n",
       "      <td id=\"T_de762_row1_col3\" class=\"data row1 col3\" >0.280600</td>\n",
       "      <td id=\"T_de762_row1_col4\" class=\"data row1 col4\" >0.898500</td>\n",
       "      <td id=\"T_de762_row1_col5\" class=\"data row1 col5\" >0.308200</td>\n",
       "      <td id=\"T_de762_row1_col6\" class=\"data row1 col6\" >0.783700</td>\n",
       "      <td id=\"T_de762_row1_col7\" class=\"data row1 col7\" >0.344300</td>\n",
       "      <td id=\"T_de762_row1_col8\" class=\"data row1 col8\" >0.280600</td>\n",
       "    </tr>\n",
       "    <tr>\n",
       "      <th id=\"T_de762_level0_row2\" class=\"row_heading level0 row2\" >4</th>\n",
       "      <td id=\"T_de762_row2_col0\" class=\"data row2 col0\" >3</td>\n",
       "      <td id=\"T_de762_row2_col1\" class=\"data row2 col1\" >1</td>\n",
       "      <td id=\"T_de762_row2_col2\" class=\"data row2 col2\" >0.001000</td>\n",
       "      <td id=\"T_de762_row2_col3\" class=\"data row2 col3\" >0.280600</td>\n",
       "      <td id=\"T_de762_row2_col4\" class=\"data row2 col4\" >0.898500</td>\n",
       "      <td id=\"T_de762_row2_col5\" class=\"data row2 col5\" >0.308200</td>\n",
       "      <td id=\"T_de762_row2_col6\" class=\"data row2 col6\" >0.783700</td>\n",
       "      <td id=\"T_de762_row2_col7\" class=\"data row2 col7\" >0.344300</td>\n",
       "      <td id=\"T_de762_row2_col8\" class=\"data row2 col8\" >0.280600</td>\n",
       "    </tr>\n",
       "    <tr>\n",
       "      <th id=\"T_de762_level0_row3\" class=\"row_heading level0 row3\" >0</th>\n",
       "      <td id=\"T_de762_row3_col0\" class=\"data row3 col0\" >3</td>\n",
       "      <td id=\"T_de762_row3_col1\" class=\"data row3 col1\" >1</td>\n",
       "      <td id=\"T_de762_row3_col2\" class=\"data row3 col2\" >0.010000</td>\n",
       "      <td id=\"T_de762_row3_col3\" class=\"data row3 col3\" >0.289400</td>\n",
       "      <td id=\"T_de762_row3_col4\" class=\"data row3 col4\" >0.900300</td>\n",
       "      <td id=\"T_de762_row3_col5\" class=\"data row3 col5\" >0.342300</td>\n",
       "      <td id=\"T_de762_row3_col6\" class=\"data row3 col6\" >0.761400</td>\n",
       "      <td id=\"T_de762_row3_col7\" class=\"data row3 col7\" >0.280300</td>\n",
       "      <td id=\"T_de762_row3_col8\" class=\"data row3 col8\" >0.289400</td>\n",
       "    </tr>\n",
       "    <tr>\n",
       "      <th id=\"T_de762_level0_row4\" class=\"row_heading level0 row4\" >2</th>\n",
       "      <td id=\"T_de762_row4_col0\" class=\"data row4 col0\" >3</td>\n",
       "      <td id=\"T_de762_row4_col1\" class=\"data row4 col1\" >1</td>\n",
       "      <td id=\"T_de762_row4_col2\" class=\"data row4 col2\" >0.010000</td>\n",
       "      <td id=\"T_de762_row4_col3\" class=\"data row4 col3\" >0.289400</td>\n",
       "      <td id=\"T_de762_row4_col4\" class=\"data row4 col4\" >0.900300</td>\n",
       "      <td id=\"T_de762_row4_col5\" class=\"data row4 col5\" >0.342300</td>\n",
       "      <td id=\"T_de762_row4_col6\" class=\"data row4 col6\" >0.761400</td>\n",
       "      <td id=\"T_de762_row4_col7\" class=\"data row4 col7\" >0.280300</td>\n",
       "      <td id=\"T_de762_row4_col8\" class=\"data row4 col8\" >0.289400</td>\n",
       "    </tr>\n",
       "  </tbody>\n",
       "</table>\n"
      ],
      "text/plain": [
       "<pandas.io.formats.style.Styler at 0x2d7231bc670>"
      ]
     },
     "metadata": {},
     "output_type": "display_data"
    }
   ],
   "source": [
    "runOptuna({'dsName': dsName, 'B': [3,7,12], 'L': [1], 'G': [1e-2, 1e-3]})"
   ]
  },
  {
   "cell_type": "code",
   "execution_count": null,
   "metadata": {},
   "outputs": [],
   "source": []
  }
 ],
 "metadata": {
  "kernelspec": {
   "display_name": "Python 3 (ipykernel)",
   "language": "python",
   "name": "python3"
  },
  "language_info": {
   "codemirror_mode": {
    "name": "ipython",
    "version": 3
   },
   "file_extension": ".py",
   "mimetype": "text/x-python",
   "name": "python",
   "nbconvert_exporter": "python",
   "pygments_lexer": "ipython3",
   "version": "3.10.0"
  }
 },
 "nbformat": 4,
 "nbformat_minor": 4
}
